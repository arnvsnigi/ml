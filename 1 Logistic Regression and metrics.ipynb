{
 "cells": [
  {
   "cell_type": "code",
   "execution_count": 2,
   "id": "63db1247",
   "metadata": {},
   "outputs": [
    {
     "data": {
      "text/plain": [
       "array([[ 0.04446722,  0.91377162, -0.14972402, ...,  0.57407122,\n",
       "        -0.66673831,  1.58983898],\n",
       "       [ 0.41722807, -0.74594213,  0.6030946 , ..., -0.61453878,\n",
       "         0.30463008,  0.75341946],\n",
       "       [ 0.83868939,  0.86018264,  0.66388059, ...,  0.72508104,\n",
       "        -1.17953018, -1.15545179],\n",
       "       ...,\n",
       "       [ 0.04091467,  0.42796263, -0.00235298, ..., -1.92277177,\n",
       "        -0.17104772,  1.63925652],\n",
       "       [ 0.3393792 , -0.64015446,  0.25253995, ..., -1.39922826,\n",
       "        -0.52991248, -0.7348109 ],\n",
       "       [ 1.84815207, -0.31305803,  1.78069642, ...,  0.60451533,\n",
       "        -1.56102804, -1.25040773]])"
      ]
     },
     "execution_count": 2,
     "metadata": {},
     "output_type": "execute_result"
    }
   ],
   "source": [
    "import numpy as np\n",
    "from sklearn.datasets import make_classification\n",
    "from sklearn.model_selection import train_test_split\n",
    "from sklearn.linear_model import LogisticRegression\n",
    "\n",
    "X,y=make_classification(n_samples=1000,n_features=10,n_classes=2,random_state=42)\n",
    "X_train,X_test,y_train,y_test=train_test_split(X,y,test_size=0.3,random_state=42)\n",
    "X_train"
   ]
  },
  {
   "cell_type": "code",
   "execution_count": 3,
   "id": "554ecca1",
   "metadata": {},
   "outputs": [
    {
     "data": {
      "text/plain": [
       "LogisticRegression()"
      ]
     },
     "execution_count": 3,
     "metadata": {},
     "output_type": "execute_result"
    }
   ],
   "source": [
    "model=LogisticRegression()\n",
    "model.fit(X_train,y_train)"
   ]
  },
  {
   "cell_type": "code",
   "execution_count": 6,
   "id": "e4e6414d",
   "metadata": {},
   "outputs": [
    {
     "data": {
      "text/plain": [
       "array([0, 1, 0, 1, 0, 1, 0, 0, 0, 0, 0, 1, 0, 1, 0, 0, 1, 1, 1, 1, 0, 0,\n",
       "       1, 0, 0, 1, 0, 0, 1, 1, 1, 1, 0, 0, 0, 0, 1, 1, 1, 1, 0, 1, 1, 0,\n",
       "       0, 0, 1, 1, 1, 1, 0, 1, 0, 0, 1, 0, 1, 0, 1, 0, 1, 0, 0, 1, 1, 1,\n",
       "       0, 0, 1, 1, 1, 1, 1, 0, 1, 0, 0, 1, 0, 1, 0, 0, 1, 0, 1, 0, 0, 0,\n",
       "       0, 1, 1, 1, 1, 1, 1, 1, 0, 0, 1, 0, 1, 0, 1, 0, 0, 1, 0, 1, 1, 1,\n",
       "       1, 1, 1, 1, 1, 0, 0, 1, 0, 0, 1, 1, 0, 1, 1, 1, 1, 1, 1, 1, 1, 0,\n",
       "       1, 1, 1, 1, 0, 0, 0, 1, 1, 0, 0, 0, 0, 0, 1, 0, 0, 0, 1, 0, 0, 1,\n",
       "       0, 0, 1, 0, 1, 1, 0, 1, 0, 0, 0, 0, 0, 0, 0, 1, 1, 0, 0, 0, 1, 1,\n",
       "       0, 0, 1, 1, 1, 1, 1, 1, 1, 0, 0, 0, 0, 1, 0, 0, 0, 0, 1, 0, 0, 1,\n",
       "       1, 1, 0, 1, 0, 0, 0, 1, 1, 1, 1, 1, 0, 0, 0, 0, 0, 1, 0, 1, 0, 1,\n",
       "       1, 0, 0, 1, 1, 1, 0, 1, 1, 0, 0, 0, 0, 0, 0, 0, 0, 0, 1, 1, 0, 1,\n",
       "       0, 1, 1, 0, 1, 0, 1, 0, 1, 1, 1, 0, 0, 1, 1, 1, 1, 0, 1, 0, 1, 1,\n",
       "       0, 0, 0, 1, 1, 0, 1, 1, 0, 0, 1, 0, 0, 0, 0, 1, 1, 0, 1, 0, 1, 1,\n",
       "       1, 0, 0, 1, 0, 1, 1, 0, 1, 1, 1, 1, 1, 0])"
      ]
     },
     "execution_count": 6,
     "metadata": {},
     "output_type": "execute_result"
    }
   ],
   "source": [
    "y_pred = model.predict(X_test)\n",
    "y_prob = model.predict_proba(X_test)[:, 1]\n",
    "y_pred"
   ]
  },
  {
   "cell_type": "code",
   "execution_count": 18,
   "id": "f97fd8b0",
   "metadata": {},
   "outputs": [
    {
     "name": "stdout",
     "output_type": "stream",
     "text": [
      "Accuracy is : 0.8466666666666667\n",
      "0.8242424242424242\n",
      "0.8888888888888888\n",
      "0.8027210884353742\n"
     ]
    }
   ],
   "source": [
    "def conf_matrix(y_pred,y_true):\n",
    "    tp=np.sum((y_true==1) & (y_pred==1))\n",
    "    tn=np.sum((y_true==0) & (y_pred==0))\n",
    "    fp=np.sum((y_true==0) & (y_pred==1))\n",
    "    fn=np.sum((y_true==1) & (y_pred==0))\n",
    "    return tp,tn,fp,fn\n",
    "def acc(tp,tn,fp,fn):\n",
    "    return (tp+tn)/(tp+tn+fp+fn)\n",
    "def sen(tp,tn,fp,fn):\n",
    "    return (tp)/(tp+fn)\n",
    "def prec(tp,tn,fp,fn):\n",
    "    return (tp)/(tp+fp)\n",
    "def f1(tp,tn,fp,fn):\n",
    "    preci=prec(tp,tn,fp,fn)\n",
    "    reci=sen(tp,tn,fp,tn)\n",
    "    return (2*preci*reci)/(preci+reci)\n",
    "def speci(TP,TN, FP,FN):\n",
    "    return TN / (TN + FP) if (TN + FP) != 0 else 0\n",
    "\n",
    "def npv(TP,TN, FP,FN):\n",
    "    return TN / (TN + FN) if (TN + FN) != 0 else 0\n",
    "def mcc(TP, TN, FP, FN):\n",
    "    numerator = (TP * TN) - (FP * FN)\n",
    "    denominator = np.sqrt((TP + FP) * (TP + FN) * (TN + FP) * (TN + FN))\n",
    "    return numerator / denominator if denominator != 0 else 0\n",
    "tp,tn,fp,fn=conf_matrix(y_pred,y_test)\n",
    "print(\"Accuracy is :\",acc(tp,tn,fp,fn))\n",
    "print(sen(tp,tn,fp,fn))\n",
    "print(prec(tp,tn,fp,fn))\n",
    "print(npv(tp,tn,fp,fn))"
   ]
  },
  {
   "cell_type": "code",
   "execution_count": 24,
   "id": "524a7d66",
   "metadata": {},
   "outputs": [
    {
     "data": {
      "text/plain": [
       "{'Accuracy': 0.8466666666666667,\n",
       " 'Precision': 0.8888888888888888,\n",
       " 'Recall (Sensitivity)': 0.8242424242424242,\n",
       " 'F1-Score': 0.8553459119496855,\n",
       " 'MCC': 0.6949551478806616,\n",
       " 'Specificity': 0.5862068965517241,\n",
       " 'NPV': 1.152542372881356}"
      ]
     },
     "execution_count": 24,
     "metadata": {},
     "output_type": "execute_result"
    }
   ],
   "source": [
    "from sklearn.metrics import accuracy_score,precision_score,recall_score,f1_score,matthews_corrcoef,roc_auc_score,roc_curve,confusion_matrix,auc\n",
    "\n",
    "# Calculate metrics using sklearn\n",
    "sklearn_metrics = {\n",
    "    \"Accuracy\": accuracy_score(y_test, y_pred),\n",
    "    \"Precision\": precision_score(y_test, y_pred),\n",
    "    \"Recall (Sensitivity)\": recall_score(y_test, y_pred),\n",
    "    \"F1-Score\": f1_score(y_test, y_pred),\n",
    "    \"MCC\": matthews_corrcoef(y_test, y_pred),\n",
    "    \"Specificity\": confusion_matrix(y_test, y_pred).ravel()[1] / confusion_matrix(y_test, y_pred).ravel()[2],\n",
    "    \"NPV\": confusion_matrix(y_test, y_pred).ravel()[3] / confusion_matrix(y_test, y_pred).ravel()[0]\n",
    "}\n",
    "\n",
    "sklearn_metrics"
   ]
  },
  {
   "cell_type": "code",
   "execution_count": 25,
   "id": "bf8c0c19",
   "metadata": {},
   "outputs": [
    {
     "name": "stderr",
     "output_type": "stream",
     "text": [
      "No artists with labels found to put in legend.  Note that artists whose label start with an underscore are ignored when legend() is called with no argument.\n"
     ]
    },
    {
     "data": {
      "image/png": "[encoded data removed]",
      "text/plain": [
       "<Figure size 640x480 with 1 Axes>"
      ]
     },
     "metadata": {},
     "output_type": "display_data"
    },
    {
     "name": "stdout",
     "output_type": "stream",
     "text": [
      "AUC: 0.92\n"
     ]
    }
   ],
   "source": [
    "fpr, tpr, thresholds = roc_curve(y_test, y_prob)\n",
    "roc_auc = roc_auc_score(y_test, y_prob)\n",
    "\n",
    "\n",
    "plt.figure()\n",
    "plt.plot(fpr, tpr, color='blue', lw=2)\n",
    "plt.plot([0, 1], [0, 1], color='grey', lw=2, linestyle='--')\n",
    "plt.xlabel('False Positive Rate')\n",
    "plt.ylabel('True Positive Rate')\n",
    "plt.title('Receiver Operating Characteristic (ROC) Curve')\n",
    "plt.legend()\n",
    "plt.show()\n",
    "\n",
    "# Print the AUC\n",
    "print(f\"AUC: {roc_auc:.2f}\")"
   ]
  },
  {
   "cell_type": "code",
   "execution_count": null,
   "id": "d9e40922",
   "metadata": {},
   "outputs": [],
   "source": []
  }
 ],
 "metadata": {
  "kernelspec": {
   "display_name": "Python 3 (ipykernel)",
   "language": "python",
   "name": "python3"
  },
  "language_info": {
   "codemirror_mode": {
    "name": "ipython",
    "version": 3
   },
   "file_extension": ".py",
   "mimetype": "text/x-python",
   "name": "python",
   "nbconvert_exporter": "python",
   "pygments_lexer": "ipython3",
   "version": "3.9.13"
  }
 },
 "nbformat": 4,
 "nbformat_minor": 5
}
